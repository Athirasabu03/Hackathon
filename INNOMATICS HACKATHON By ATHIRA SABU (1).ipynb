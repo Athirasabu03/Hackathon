{
 "cells": [
  {
   "cell_type": "markdown",
   "id": "ea125b4d",
   "metadata": {},
   "source": [
    "# INNOMATICS HACKATHON"
   ]
  },
  {
   "cell_type": "code",
   "execution_count": 1,
   "id": "c619fa8e",
   "metadata": {},
   "outputs": [],
   "source": [
    "# ignore warnings\n",
    "import warnings\n",
    "warnings.filterwarnings('ignore')"
   ]
  },
  {
   "cell_type": "markdown",
   "id": "8a53beac",
   "metadata": {},
   "source": [
    "## 1. Import Required Libraries"
   ]
  },
  {
   "cell_type": "code",
   "execution_count": 2,
   "id": "7456ef72",
   "metadata": {},
   "outputs": [],
   "source": [
    "import numpy as np\n",
    "import pandas as pd\n",
    "import matplotlib.pyplot as plt\n",
    "import seaborn as sns"
   ]
  },
  {
   "cell_type": "markdown",
   "id": "50e814eb",
   "metadata": {},
   "source": [
    "## 2. Reading and Understanding of Data"
   ]
  },
  {
   "cell_type": "code",
   "execution_count": 3,
   "id": "72f394e2",
   "metadata": {},
   "outputs": [
    {
     "data": {
      "text/html": [
       "<div>\n",
       "<style scoped>\n",
       "    .dataframe tbody tr th:only-of-type {\n",
       "        vertical-align: middle;\n",
       "    }\n",
       "\n",
       "    .dataframe tbody tr th {\n",
       "        vertical-align: top;\n",
       "    }\n",
       "\n",
       "    .dataframe thead th {\n",
       "        text-align: right;\n",
       "    }\n",
       "</style>\n",
       "<table border=\"1\" class=\"dataframe\">\n",
       "  <thead>\n",
       "    <tr style=\"text-align: right;\">\n",
       "      <th></th>\n",
       "      <th>input</th>\n",
       "      <th>output</th>\n",
       "    </tr>\n",
       "  </thead>\n",
       "  <tbody>\n",
       "    <tr>\n",
       "      <th>0</th>\n",
       "      <td>-122.740667</td>\n",
       "      <td>-130.572085</td>\n",
       "    </tr>\n",
       "    <tr>\n",
       "      <th>1</th>\n",
       "      <td>-121.531419</td>\n",
       "      <td>-129.938929</td>\n",
       "    </tr>\n",
       "    <tr>\n",
       "      <th>2</th>\n",
       "      <td>-134.917019</td>\n",
       "      <td>-130.141832</td>\n",
       "    </tr>\n",
       "    <tr>\n",
       "      <th>3</th>\n",
       "      <td>-120.605951</td>\n",
       "      <td>-125.760932</td>\n",
       "    </tr>\n",
       "    <tr>\n",
       "      <th>4</th>\n",
       "      <td>-129.894781</td>\n",
       "      <td>-112.785214</td>\n",
       "    </tr>\n",
       "  </tbody>\n",
       "</table>\n",
       "</div>"
      ],
      "text/plain": [
       "        input      output\n",
       "0 -122.740667 -130.572085\n",
       "1 -121.531419 -129.938929\n",
       "2 -134.917019 -130.141832\n",
       "3 -120.605951 -125.760932\n",
       "4 -129.894781 -112.785214"
      ]
     },
     "execution_count": 3,
     "metadata": {},
     "output_type": "execute_result"
    }
   ],
   "source": [
    "data=pd.read_csv('dataframe_.csv')\n",
    "data.head()"
   ]
  },
  {
   "cell_type": "code",
   "execution_count": 4,
   "id": "0dc84e7b",
   "metadata": {},
   "outputs": [
    {
     "data": {
      "text/plain": [
       "(1697, 2)"
      ]
     },
     "execution_count": 4,
     "metadata": {},
     "output_type": "execute_result"
    }
   ],
   "source": [
    "data.shape"
   ]
  },
  {
   "cell_type": "markdown",
   "id": "18b748b8",
   "metadata": {},
   "source": [
    "#### It is observed that the given dataset contains 1697 rows and 2 columns"
   ]
  },
  {
   "cell_type": "code",
   "execution_count": 5,
   "id": "a550dd3e",
   "metadata": {},
   "outputs": [
    {
     "name": "stdout",
     "output_type": "stream",
     "text": [
      "<class 'pandas.core.frame.DataFrame'>\n",
      "RangeIndex: 1697 entries, 0 to 1696\n",
      "Data columns (total 2 columns):\n",
      " #   Column  Non-Null Count  Dtype  \n",
      "---  ------  --------------  -----  \n",
      " 0   input   1696 non-null   float64\n",
      " 1   output  1696 non-null   float64\n",
      "dtypes: float64(2)\n",
      "memory usage: 26.6 KB\n"
     ]
    }
   ],
   "source": [
    "data.info()"
   ]
  },
  {
   "cell_type": "code",
   "execution_count": 6,
   "id": "793da37f",
   "metadata": {},
   "outputs": [
    {
     "data": {
      "text/html": [
       "<div>\n",
       "<style scoped>\n",
       "    .dataframe tbody tr th:only-of-type {\n",
       "        vertical-align: middle;\n",
       "    }\n",
       "\n",
       "    .dataframe tbody tr th {\n",
       "        vertical-align: top;\n",
       "    }\n",
       "\n",
       "    .dataframe thead th {\n",
       "        text-align: right;\n",
       "    }\n",
       "</style>\n",
       "<table border=\"1\" class=\"dataframe\">\n",
       "  <thead>\n",
       "    <tr style=\"text-align: right;\">\n",
       "      <th></th>\n",
       "      <th>input</th>\n",
       "      <th>output</th>\n",
       "    </tr>\n",
       "  </thead>\n",
       "  <tbody>\n",
       "    <tr>\n",
       "      <th>count</th>\n",
       "      <td>1696.000000</td>\n",
       "      <td>1696.000000</td>\n",
       "    </tr>\n",
       "    <tr>\n",
       "      <th>mean</th>\n",
       "      <td>1.159933</td>\n",
       "      <td>-34.088017</td>\n",
       "    </tr>\n",
       "    <tr>\n",
       "      <th>std</th>\n",
       "      <td>79.005970</td>\n",
       "      <td>65.771112</td>\n",
       "    </tr>\n",
       "    <tr>\n",
       "      <th>min</th>\n",
       "      <td>-134.962839</td>\n",
       "      <td>-132.422167</td>\n",
       "    </tr>\n",
       "    <tr>\n",
       "      <th>25%</th>\n",
       "      <td>-63.386506</td>\n",
       "      <td>-80.026767</td>\n",
       "    </tr>\n",
       "    <tr>\n",
       "      <th>50%</th>\n",
       "      <td>10.195194</td>\n",
       "      <td>-50.470981</td>\n",
       "    </tr>\n",
       "    <tr>\n",
       "      <th>75%</th>\n",
       "      <td>70.264109</td>\n",
       "      <td>-11.000000</td>\n",
       "    </tr>\n",
       "    <tr>\n",
       "      <th>max</th>\n",
       "      <td>134.605775</td>\n",
       "      <td>134.425495</td>\n",
       "    </tr>\n",
       "  </tbody>\n",
       "</table>\n",
       "</div>"
      ],
      "text/plain": [
       "             input       output\n",
       "count  1696.000000  1696.000000\n",
       "mean      1.159933   -34.088017\n",
       "std      79.005970    65.771112\n",
       "min    -134.962839  -132.422167\n",
       "25%     -63.386506   -80.026767\n",
       "50%      10.195194   -50.470981\n",
       "75%      70.264109   -11.000000\n",
       "max     134.605775   134.425495"
      ]
     },
     "execution_count": 6,
     "metadata": {},
     "output_type": "execute_result"
    }
   ],
   "source": [
    "data.describe()"
   ]
  },
  {
   "cell_type": "code",
   "execution_count": 7,
   "id": "46586bff",
   "metadata": {},
   "outputs": [
    {
     "data": {
      "image/png": "[encoded data removed]",
      "text/plain": [
       "<Figure size 432x288 with 1 Axes>"
      ]
     },
     "metadata": {
      "needs_background": "light"
     },
     "output_type": "display_data"
    }
   ],
   "source": [
    "sns.regplot(x='input',y='output',data=data)\n",
    "plt.show()"
   ]
  },
  {
   "cell_type": "code",
   "execution_count": 8,
   "id": "9f80e326",
   "metadata": {},
   "outputs": [
    {
     "data": {
      "text/plain": [
       "input     0.06\n",
       "output    0.06\n",
       "dtype: float64"
      ]
     },
     "execution_count": 8,
     "metadata": {},
     "output_type": "execute_result"
    }
   ],
   "source": [
    "# Checking for percentage of null values\n",
    "round(100*(data.isnull().sum()/len(data.index)), 2)"
   ]
  },
  {
   "cell_type": "markdown",
   "id": "0f54b960",
   "metadata": {},
   "source": [
    "##### There are 0.06% null values in both input and output columns\n"
   ]
  },
  {
   "cell_type": "markdown",
   "id": "5c7dcc69",
   "metadata": {},
   "source": [
    "##### As the percentage of null values is very less, we can drop those values"
   ]
  },
  {
   "cell_type": "code",
   "execution_count": 10,
   "id": "97a29810",
   "metadata": {},
   "outputs": [
    {
     "data": {
      "text/html": [
       "<div>\n",
       "<style scoped>\n",
       "    .dataframe tbody tr th:only-of-type {\n",
       "        vertical-align: middle;\n",
       "    }\n",
       "\n",
       "    .dataframe tbody tr th {\n",
       "        vertical-align: top;\n",
       "    }\n",
       "\n",
       "    .dataframe thead th {\n",
       "        text-align: right;\n",
       "    }\n",
       "</style>\n",
       "<table border=\"1\" class=\"dataframe\">\n",
       "  <thead>\n",
       "    <tr style=\"text-align: right;\">\n",
       "      <th></th>\n",
       "      <th>input</th>\n",
       "      <th>output</th>\n",
       "    </tr>\n",
       "  </thead>\n",
       "  <tbody>\n",
       "    <tr>\n",
       "      <th>count</th>\n",
       "      <td>1696.000000</td>\n",
       "      <td>1696.000000</td>\n",
       "    </tr>\n",
       "    <tr>\n",
       "      <th>mean</th>\n",
       "      <td>1.159933</td>\n",
       "      <td>-34.088017</td>\n",
       "    </tr>\n",
       "    <tr>\n",
       "      <th>std</th>\n",
       "      <td>79.005970</td>\n",
       "      <td>65.771112</td>\n",
       "    </tr>\n",
       "    <tr>\n",
       "      <th>min</th>\n",
       "      <td>-134.962839</td>\n",
       "      <td>-132.422167</td>\n",
       "    </tr>\n",
       "    <tr>\n",
       "      <th>25%</th>\n",
       "      <td>-63.386506</td>\n",
       "      <td>-80.026767</td>\n",
       "    </tr>\n",
       "    <tr>\n",
       "      <th>50%</th>\n",
       "      <td>10.195194</td>\n",
       "      <td>-50.470981</td>\n",
       "    </tr>\n",
       "    <tr>\n",
       "      <th>75%</th>\n",
       "      <td>70.264109</td>\n",
       "      <td>-11.000000</td>\n",
       "    </tr>\n",
       "    <tr>\n",
       "      <th>90%</th>\n",
       "      <td>104.361054</td>\n",
       "      <td>84.642175</td>\n",
       "    </tr>\n",
       "    <tr>\n",
       "      <th>95%</th>\n",
       "      <td>114.574354</td>\n",
       "      <td>112.652706</td>\n",
       "    </tr>\n",
       "    <tr>\n",
       "      <th>99%</th>\n",
       "      <td>128.076325</td>\n",
       "      <td>131.000000</td>\n",
       "    </tr>\n",
       "    <tr>\n",
       "      <th>max</th>\n",
       "      <td>134.605775</td>\n",
       "      <td>134.425495</td>\n",
       "    </tr>\n",
       "  </tbody>\n",
       "</table>\n",
       "</div>"
      ],
      "text/plain": [
       "             input       output\n",
       "count  1696.000000  1696.000000\n",
       "mean      1.159933   -34.088017\n",
       "std      79.005970    65.771112\n",
       "min    -134.962839  -132.422167\n",
       "25%     -63.386506   -80.026767\n",
       "50%      10.195194   -50.470981\n",
       "75%      70.264109   -11.000000\n",
       "90%     104.361054    84.642175\n",
       "95%     114.574354   112.652706\n",
       "99%     128.076325   131.000000\n",
       "max     134.605775   134.425495"
      ]
     },
     "execution_count": 10,
     "metadata": {},
     "output_type": "execute_result"
    }
   ],
   "source": [
    "#Checking for outlier in the numerical columns\n",
    "data.describe(percentiles=[.25,.5,.75,.90,.95,.99])"
   ]
  },
  {
   "cell_type": "code",
   "execution_count": 40,
   "id": "19da9d15",
   "metadata": {},
   "outputs": [
    {
     "data": {
      "image/png": "[encoded data removed]",
      "text/plain": [
       "<Figure size 432x288 with 1 Axes>"
      ]
     },
     "metadata": {
      "needs_background": "light"
     },
     "output_type": "display_data"
    }
   ],
   "source": [
    "sns.boxplot(x = 'input', data = data)\n",
    "plt.show()"
   ]
  },
  {
   "cell_type": "code",
   "execution_count": 41,
   "id": "a381b2ef",
   "metadata": {},
   "outputs": [
    {
     "data": {
      "image/png": "[encoded data removed]",
      "text/plain": [
       "<Figure size 432x288 with 1 Axes>"
      ]
     },
     "metadata": {
      "needs_background": "light"
     },
     "output_type": "display_data"
    }
   ],
   "source": [
    "sns.boxplot(x = 'output', data = data)\n",
    "plt.show()"
   ]
  },
  {
   "cell_type": "markdown",
   "id": "6b75f11a",
   "metadata": {},
   "source": [
    "##### From here it is observed that there are no outliers in the data as the percentile value is gradually increasing"
   ]
  },
  {
   "cell_type": "code",
   "execution_count": 13,
   "id": "96797414",
   "metadata": {},
   "outputs": [
    {
     "data": {
      "text/plain": [
       "input     1\n",
       "output    1\n",
       "dtype: int64"
      ]
     },
     "execution_count": 13,
     "metadata": {},
     "output_type": "execute_result"
    }
   ],
   "source": [
    "data.isnull().sum()"
   ]
  },
  {
   "cell_type": "markdown",
   "id": "dbb57aa4",
   "metadata": {},
   "source": [
    "##### It is observed that only 1 data from input column and 1 data from output column is NULL."
   ]
  },
  {
   "cell_type": "markdown",
   "id": "4b1ac704",
   "metadata": {},
   "source": [
    "##### So dropping the null values."
   ]
  },
  {
   "cell_type": "code",
   "execution_count": 16,
   "id": "ac553602",
   "metadata": {},
   "outputs": [],
   "source": [
    "# Dropping Null values\n",
    "data = data[~np.isnan(data['input'])]\n",
    "data = data[~np.isnan(data['output'])]"
   ]
  },
  {
   "cell_type": "code",
   "execution_count": 17,
   "id": "f4f15fc6",
   "metadata": {},
   "outputs": [
    {
     "data": {
      "text/plain": [
       "input     0\n",
       "output    0\n",
       "dtype: int64"
      ]
     },
     "execution_count": 17,
     "metadata": {},
     "output_type": "execute_result"
    }
   ],
   "source": [
    "data.isnull().sum()\n"
   ]
  },
  {
   "cell_type": "code",
   "execution_count": 18,
   "id": "02f7b82a",
   "metadata": {},
   "outputs": [
    {
     "data": {
      "text/html": [
       "<div>\n",
       "<style scoped>\n",
       "    .dataframe tbody tr th:only-of-type {\n",
       "        vertical-align: middle;\n",
       "    }\n",
       "\n",
       "    .dataframe tbody tr th {\n",
       "        vertical-align: top;\n",
       "    }\n",
       "\n",
       "    .dataframe thead th {\n",
       "        text-align: right;\n",
       "    }\n",
       "</style>\n",
       "<table border=\"1\" class=\"dataframe\">\n",
       "  <thead>\n",
       "    <tr style=\"text-align: right;\">\n",
       "      <th></th>\n",
       "      <th>input</th>\n",
       "      <th>output</th>\n",
       "    </tr>\n",
       "  </thead>\n",
       "  <tbody>\n",
       "    <tr>\n",
       "      <th>0</th>\n",
       "      <td>-122.740667</td>\n",
       "      <td>-130.572085</td>\n",
       "    </tr>\n",
       "    <tr>\n",
       "      <th>1</th>\n",
       "      <td>-121.531419</td>\n",
       "      <td>-129.938929</td>\n",
       "    </tr>\n",
       "    <tr>\n",
       "      <th>2</th>\n",
       "      <td>-134.917019</td>\n",
       "      <td>-130.141832</td>\n",
       "    </tr>\n",
       "    <tr>\n",
       "      <th>3</th>\n",
       "      <td>-120.605951</td>\n",
       "      <td>-125.760932</td>\n",
       "    </tr>\n",
       "    <tr>\n",
       "      <th>4</th>\n",
       "      <td>-129.894781</td>\n",
       "      <td>-112.785214</td>\n",
       "    </tr>\n",
       "  </tbody>\n",
       "</table>\n",
       "</div>"
      ],
      "text/plain": [
       "        input      output\n",
       "0 -122.740667 -130.572085\n",
       "1 -121.531419 -129.938929\n",
       "2 -134.917019 -130.141832\n",
       "3 -120.605951 -125.760932\n",
       "4 -129.894781 -112.785214"
      ]
     },
     "execution_count": 18,
     "metadata": {},
     "output_type": "execute_result"
    }
   ],
   "source": [
    "data.head()"
   ]
  },
  {
   "cell_type": "markdown",
   "id": "47810178",
   "metadata": {},
   "source": [
    "### Data Visualisation"
   ]
  },
  {
   "cell_type": "code",
   "execution_count": 19,
   "id": "806cd20e",
   "metadata": {},
   "outputs": [
    {
     "data": {
      "image/png": "[encoded data removed]",
      "text/plain": [
       "<Figure size 432x288 with 2 Axes>"
      ]
     },
     "metadata": {
      "needs_background": "light"
     },
     "output_type": "display_data"
    }
   ],
   "source": [
    "sns.heatmap(data.corr(), cmap=\"YlGnBu\", annot = True)\n",
    "plt.show()"
   ]
  },
  {
   "cell_type": "markdown",
   "id": "378ee67d",
   "metadata": {},
   "source": [
    "##### It is observed that the input and output had a correlation of 0.51."
   ]
  },
  {
   "cell_type": "markdown",
   "id": "76301eb6",
   "metadata": {},
   "source": [
    "### Performing Simple Linear Regression"
   ]
  },
  {
   "cell_type": "markdown",
   "id": "ced40b21",
   "metadata": {},
   "source": [
    "#### We first assign the feature variable, `input`, in this case, to the variable `X` and the response variable, `output`, to the variable `y`."
   ]
  },
  {
   "cell_type": "code",
   "execution_count": 20,
   "id": "43e07ee2",
   "metadata": {},
   "outputs": [],
   "source": [
    "X = data['input']\n",
    "y = data['output']"
   ]
  },
  {
   "cell_type": "markdown",
   "id": "78df56b0",
   "metadata": {},
   "source": [
    "#### Train-Test Split\n",
    "\n",
    "We now need to split our variable into training and testing sets. We'll perform this by importing `train_test_split` from the `sklearn.model_selection` library. It is usually a good practice to keep 70% of the data in your train dataset and the rest 30% in your test dataset."
   ]
  },
  {
   "cell_type": "code",
   "execution_count": 21,
   "id": "0f2de5c2",
   "metadata": {},
   "outputs": [],
   "source": [
    "from sklearn.model_selection import train_test_split\n",
    "X_train, X_test, y_train, y_test = train_test_split(X, y, train_size = 0.7, test_size = 0.3, random_state = 100)"
   ]
  },
  {
   "cell_type": "code",
   "execution_count": 22,
   "id": "ce10881a",
   "metadata": {},
   "outputs": [
    {
     "data": {
      "text/plain": [
       "819    -117.366669\n",
       "1497     50.316213\n",
       "1652      6.105350\n",
       "1311     -7.677098\n",
       "565      79.914690\n",
       "Name: input, dtype: float64"
      ]
     },
     "execution_count": 22,
     "metadata": {},
     "output_type": "execute_result"
    }
   ],
   "source": [
    "# Checking the train dataset\n",
    "X_train.head()"
   ]
  },
  {
   "cell_type": "code",
   "execution_count": 23,
   "id": "09ca60b6",
   "metadata": {},
   "outputs": [
    {
     "data": {
      "text/plain": [
       "819    -75.000000\n",
       "1497   -15.031056\n",
       "1652   -75.119074\n",
       "1311   -64.970878\n",
       "565    -50.069960\n",
       "Name: output, dtype: float64"
      ]
     },
     "execution_count": 23,
     "metadata": {},
     "output_type": "execute_result"
    }
   ],
   "source": [
    "y_train.head()"
   ]
  },
  {
   "cell_type": "markdown",
   "id": "a1402454",
   "metadata": {},
   "source": [
    "##### Building a Linear Model"
   ]
  },
  {
   "cell_type": "markdown",
   "id": "cbf8a89d",
   "metadata": {},
   "source": [
    "##### We first need to import the `statsmodel.api` library using which we'll perform the linear regression."
   ]
  },
  {
   "cell_type": "code",
   "execution_count": 24,
   "id": "8a16ef30",
   "metadata": {},
   "outputs": [],
   "source": [
    "import statsmodels.api as sm"
   ]
  },
  {
   "cell_type": "code",
   "execution_count": 25,
   "id": "17ab312c",
   "metadata": {},
   "outputs": [],
   "source": [
    "# Add a constant to get an intercept\n",
    "X_train_sm = sm.add_constant(X_train)\n",
    "\n",
    "# Fit the resgression line using 'OLS'\n",
    "lr = sm.OLS(y_train, X_train_sm).fit()"
   ]
  },
  {
   "cell_type": "code",
   "execution_count": 26,
   "id": "bfc91786",
   "metadata": {},
   "outputs": [
    {
     "data": {
      "text/plain": [
       "const   -33.893447\n",
       "input     0.424727\n",
       "dtype: float64"
      ]
     },
     "execution_count": 26,
     "metadata": {},
     "output_type": "execute_result"
    }
   ],
   "source": [
    "# Print the parameters, i.e. the intercept and the slope of the regression line fitted\n",
    "lr.params"
   ]
  },
  {
   "cell_type": "code",
   "execution_count": 27,
   "id": "5b3d72a7",
   "metadata": {},
   "outputs": [
    {
     "name": "stdout",
     "output_type": "stream",
     "text": [
      "                            OLS Regression Results                            \n",
      "==============================================================================\n",
      "Dep. Variable:                 output   R-squared:                       0.253\n",
      "Model:                            OLS   Adj. R-squared:                  0.252\n",
      "Method:                 Least Squares   F-statistic:                     400.8\n",
      "Date:                Sat, 11 Feb 2023   Prob (F-statistic):           5.01e-77\n",
      "Time:                        14:42:36   Log-Likelihood:                -6502.2\n",
      "No. Observations:                1187   AIC:                         1.301e+04\n",
      "Df Residuals:                    1185   BIC:                         1.302e+04\n",
      "Df Model:                           1                                         \n",
      "Covariance Type:            nonrobust                                         \n",
      "==============================================================================\n",
      "                 coef    std err          t      P>|t|      [0.025      0.975]\n",
      "------------------------------------------------------------------------------\n",
      "const        -33.8934      1.683    -20.144      0.000     -37.195     -30.592\n",
      "input          0.4247      0.021     20.019      0.000       0.383       0.466\n",
      "==============================================================================\n",
      "Omnibus:                      267.576   Durbin-Watson:                   1.926\n",
      "Prob(Omnibus):                  0.000   Jarque-Bera (JB):              606.194\n",
      "Skew:                           1.236   Prob(JB):                    2.33e-132\n",
      "Kurtosis:                       5.480   Cond. No.                         79.3\n",
      "==============================================================================\n",
      "\n",
      "Notes:\n",
      "[1] Standard Errors assume that the covariance matrix of the errors is correctly specified.\n"
     ]
    }
   ],
   "source": [
    "# Performing a summary operation lists out all the different parameters of the regression line fitted\n",
    "print(lr.summary())"
   ]
  },
  {
   "cell_type": "markdown",
   "id": "beac8e07",
   "metadata": {},
   "source": [
    "### Residual Analysis"
   ]
  },
  {
   "cell_type": "markdown",
   "id": "c3e960f9",
   "metadata": {},
   "source": [
    "#### Residual analysis is used to validate the assumptions of the model"
   ]
  },
  {
   "cell_type": "markdown",
   "id": "aedb4c7d",
   "metadata": {},
   "source": [
    "We need to check if the error terms are also normally distributed (which is infact, one of the major assumptions of linear regression), let us plot the histogram of the error terms and see what it looks like."
   ]
  },
  {
   "cell_type": "code",
   "execution_count": 28,
   "id": "08450a39",
   "metadata": {},
   "outputs": [],
   "source": [
    "y_train_pred = lr.predict(X_train_sm)\n",
    "res = (y_train - y_train_pred)"
   ]
  },
  {
   "cell_type": "code",
   "execution_count": 29,
   "id": "0816f901",
   "metadata": {},
   "outputs": [
    {
     "data": {
      "image/png": "[encoded data removed]",
      "text/plain": [
       "<Figure size 432x288 with 1 Axes>"
      ]
     },
     "metadata": {
      "needs_background": "light"
     },
     "output_type": "display_data"
    }
   ],
   "source": [
    "fig = plt.figure()\n",
    "sns.distplot(res, bins = 15)\n",
    "fig.suptitle('Error Terms', fontsize = 15)                  # Plot heading \n",
    "plt.xlabel('y_train - y_train_pred', fontsize = 15)         # X-label\n",
    "plt.show()"
   ]
  },
  {
   "cell_type": "markdown",
   "id": "05baf4e5",
   "metadata": {},
   "source": [
    "### The residuals are almost normally distributed with mean 0"
   ]
  },
  {
   "cell_type": "code",
   "execution_count": 30,
   "id": "38219d6d",
   "metadata": {},
   "outputs": [
    {
     "data": {
      "image/png": "[encoded data removed]",
      "text/plain": [
       "<Figure size 432x288 with 1 Axes>"
      ]
     },
     "metadata": {
      "needs_background": "light"
     },
     "output_type": "display_data"
    }
   ],
   "source": [
    "plt.scatter(X_train,res)\n",
    "plt.show()"
   ]
  },
  {
   "cell_type": "markdown",
   "id": "6d500548",
   "metadata": {},
   "source": [
    "### Predictions on the Test Set"
   ]
  },
  {
   "cell_type": "code",
   "execution_count": 31,
   "id": "42c2aa42",
   "metadata": {},
   "outputs": [],
   "source": [
    "# Add a constant to X_test\n",
    "X_test_sm = sm.add_constant(X_test)\n",
    "\n",
    "# Predict the y values corresponding to X_test_sm\n",
    "y_pred = lr.predict(X_test_sm)"
   ]
  },
  {
   "cell_type": "code",
   "execution_count": 32,
   "id": "7db5ee23",
   "metadata": {},
   "outputs": [
    {
     "data": {
      "text/plain": [
       "487     15.643903\n",
       "1086   -81.661593\n",
       "562      0.881355\n",
       "1435    11.079477\n",
       "1232   -60.636169\n",
       "dtype: float64"
      ]
     },
     "execution_count": 32,
     "metadata": {},
     "output_type": "execute_result"
    }
   ],
   "source": [
    "y_pred.head()"
   ]
  },
  {
   "cell_type": "code",
   "execution_count": 33,
   "id": "dcabfc85",
   "metadata": {},
   "outputs": [],
   "source": [
    "from sklearn.metrics import mean_squared_error\n",
    "from sklearn.metrics import r2_score"
   ]
  },
  {
   "cell_type": "code",
   "execution_count": 34,
   "id": "fd60303c",
   "metadata": {},
   "outputs": [
    {
     "data": {
      "text/plain": [
       "53.036390287568096"
      ]
     },
     "execution_count": 34,
     "metadata": {},
     "output_type": "execute_result"
    }
   ],
   "source": [
    "#Returns the mean squared error; we'll take a square root\n",
    "np.sqrt(mean_squared_error(y_test, y_pred))"
   ]
  },
  {
   "cell_type": "code",
   "execution_count": 35,
   "id": "0c4a17ab",
   "metadata": {},
   "outputs": [
    {
     "data": {
      "text/plain": [
       "0.2851611351389869"
      ]
     },
     "execution_count": 35,
     "metadata": {},
     "output_type": "execute_result"
    }
   ],
   "source": [
    "r_squared = r2_score(y_test, y_pred)\n",
    "r_squared"
   ]
  },
  {
   "cell_type": "markdown",
   "id": "25b69ef7",
   "metadata": {},
   "source": [
    "Here the train set accuracy is 25% and test set accuracy is 28%. "
   ]
  },
  {
   "cell_type": "code",
   "execution_count": null,
   "id": "cf867f51",
   "metadata": {},
   "outputs": [],
   "source": []
  }
 ],
 "metadata": {
  "kernelspec": {
   "display_name": "Python 3 (ipykernel)",
   "language": "python",
   "name": "python3"
  },
  "language_info": {
   "codemirror_mode": {
    "name": "ipython",
    "version": 3
   },
   "file_extension": ".py",
   "mimetype": "text/x-python",
   "name": "python",
   "nbconvert_exporter": "python",
   "pygments_lexer": "ipython3",
   "version": "3.9.7"
  }
 },
 "nbformat": 4,
 "nbformat_minor": 5
}
